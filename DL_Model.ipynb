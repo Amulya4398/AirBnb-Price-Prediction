{
 "cells": [
  {
   "cell_type": "code",
   "execution_count": null,
   "metadata": {
    "id": "lYO_EH2-8z7w"
   },
   "outputs": [],
   "source": []
  },
  {
   "cell_type": "code",
   "execution_count": null,
   "metadata": {
    "colab": {
     "base_uri": "https://localhost:8080/"
    },
    "id": "6YUOqSH2DYjE",
    "outputId": "dd9d6c3e-76bf-4581-8d6e-85016c08a3eb"
   },
   "outputs": [
    {
     "name": "stdout",
     "output_type": "stream",
     "text": [
      "Mounted at /content/drive\n"
     ]
    }
   ],
   "source": [
    "from google.colab import drive\n",
    "drive.mount('/content/drive')"
   ]
  },
  {
   "cell_type": "code",
   "execution_count": null,
   "metadata": {
    "colab": {
     "base_uri": "https://localhost:8080/"
    },
    "id": "J39HyzEkDZpe",
    "outputId": "e33fbb72-0222-4b66-dec7-451b1ce464d2"
   },
   "outputs": [
    {
     "name": "stdout",
     "output_type": "stream",
     "text": [
      "'AirBnB_Prediction_Challenge_Case Study and guidelines.docx'\n",
      "'case study.zip'\n",
      "\u001b[0m\u001b[01;34m'case study.zip (Unzipped Files)'\u001b[0m/\n",
      " Cleaned_Train.csv\n",
      " test.xlsx\n",
      " train.csv\n"
     ]
    }
   ],
   "source": [
    "ls drive/MyDrive/CaseStudy/"
   ]
  },
  {
   "cell_type": "code",
   "execution_count": null,
   "metadata": {
    "id": "Ua8CyD0SGo7K"
   },
   "outputs": [],
   "source": [
    "working_directory = \"drive/MyDrive/CaseStudy/\""
   ]
  },
  {
   "cell_type": "code",
   "execution_count": null,
   "metadata": {
    "id": "Od0PDV1tAjI9"
   },
   "outputs": [],
   "source": [
    "import numpy as np\n",
    "import pandas as pd"
   ]
  },
  {
   "cell_type": "code",
   "execution_count": null,
   "metadata": {
    "id": "rM-tSKP1AjJT"
   },
   "outputs": [],
   "source": [
    "Train_Dataset = pd.read_csv(working_directory + 'Cleaned_Train.csv')"
   ]
  },
  {
   "cell_type": "code",
   "execution_count": null,
   "metadata": {
    "colab": {
     "base_uri": "https://localhost:8080/",
     "height": 256
    },
    "id": "1LM0UrdGDrrF",
    "outputId": "9870ac6b-e8e6-42c7-e2bd-d7ecafe3a41f"
   },
   "outputs": [
    {
     "data": {
      "text/html": [
       "<div>\n",
       "<style scoped>\n",
       "    .dataframe tbody tr th:only-of-type {\n",
       "        vertical-align: middle;\n",
       "    }\n",
       "\n",
       "    .dataframe tbody tr th {\n",
       "        vertical-align: top;\n",
       "    }\n",
       "\n",
       "    .dataframe thead th {\n",
       "        text-align: right;\n",
       "    }\n",
       "</style>\n",
       "<table border=\"1\" class=\"dataframe\">\n",
       "  <thead>\n",
       "    <tr style=\"text-align: right;\">\n",
       "      <th></th>\n",
       "      <th>0</th>\n",
       "      <th>1</th>\n",
       "      <th>2</th>\n",
       "      <th>3</th>\n",
       "      <th>4</th>\n",
       "      <th>5</th>\n",
       "      <th>6</th>\n",
       "      <th>7</th>\n",
       "      <th>8</th>\n",
       "      <th>9</th>\n",
       "      <th>10</th>\n",
       "      <th>11</th>\n",
       "      <th>12</th>\n",
       "      <th>13</th>\n",
       "      <th>14</th>\n",
       "      <th>15</th>\n",
       "      <th>16</th>\n",
       "      <th>17</th>\n",
       "      <th>18</th>\n",
       "      <th>19</th>\n",
       "      <th>20</th>\n",
       "      <th>21</th>\n",
       "      <th>22</th>\n",
       "      <th>23</th>\n",
       "      <th>24</th>\n",
       "      <th>25</th>\n",
       "      <th>26</th>\n",
       "      <th>27</th>\n",
       "      <th>28</th>\n",
       "      <th>29</th>\n",
       "      <th>30</th>\n",
       "      <th>31</th>\n",
       "      <th>32</th>\n",
       "      <th>33</th>\n",
       "      <th>34</th>\n",
       "      <th>35</th>\n",
       "      <th>36</th>\n",
       "      <th>37</th>\n",
       "      <th>38</th>\n",
       "      <th>39</th>\n",
       "      <th>...</th>\n",
       "      <th>160</th>\n",
       "      <th>161</th>\n",
       "      <th>162</th>\n",
       "      <th>163</th>\n",
       "      <th>164</th>\n",
       "      <th>165</th>\n",
       "      <th>166</th>\n",
       "      <th>167</th>\n",
       "      <th>168</th>\n",
       "      <th>169</th>\n",
       "      <th>170</th>\n",
       "      <th>171</th>\n",
       "      <th>172</th>\n",
       "      <th>173</th>\n",
       "      <th>174</th>\n",
       "      <th>175</th>\n",
       "      <th>176</th>\n",
       "      <th>177</th>\n",
       "      <th>178</th>\n",
       "      <th>179</th>\n",
       "      <th>180</th>\n",
       "      <th>181</th>\n",
       "      <th>182</th>\n",
       "      <th>183</th>\n",
       "      <th>184</th>\n",
       "      <th>185</th>\n",
       "      <th>186</th>\n",
       "      <th>187</th>\n",
       "      <th>188</th>\n",
       "      <th>189</th>\n",
       "      <th>190</th>\n",
       "      <th>191</th>\n",
       "      <th>192</th>\n",
       "      <th>193</th>\n",
       "      <th>194</th>\n",
       "      <th>195</th>\n",
       "      <th>196</th>\n",
       "      <th>197</th>\n",
       "      <th>198</th>\n",
       "      <th>199</th>\n",
       "    </tr>\n",
       "  </thead>\n",
       "  <tbody>\n",
       "    <tr>\n",
       "      <th>0</th>\n",
       "      <td>1.0</td>\n",
       "      <td>0.0</td>\n",
       "      <td>0.0</td>\n",
       "      <td>0.0</td>\n",
       "      <td>0.0</td>\n",
       "      <td>0.0</td>\n",
       "      <td>0.0</td>\n",
       "      <td>0.0</td>\n",
       "      <td>0.0</td>\n",
       "      <td>0.0</td>\n",
       "      <td>0.0</td>\n",
       "      <td>0.0</td>\n",
       "      <td>0.0</td>\n",
       "      <td>0.0</td>\n",
       "      <td>0.0</td>\n",
       "      <td>0.0</td>\n",
       "      <td>0.0</td>\n",
       "      <td>0.0</td>\n",
       "      <td>0.0</td>\n",
       "      <td>0.0</td>\n",
       "      <td>0.0</td>\n",
       "      <td>0.0</td>\n",
       "      <td>0.0</td>\n",
       "      <td>0.0</td>\n",
       "      <td>0.0</td>\n",
       "      <td>0.0</td>\n",
       "      <td>0.0</td>\n",
       "      <td>0.0</td>\n",
       "      <td>0.0</td>\n",
       "      <td>0.0</td>\n",
       "      <td>0.0</td>\n",
       "      <td>0.0</td>\n",
       "      <td>0.0</td>\n",
       "      <td>1.0</td>\n",
       "      <td>0.0</td>\n",
       "      <td>0.0</td>\n",
       "      <td>0.0</td>\n",
       "      <td>0.0</td>\n",
       "      <td>0.0</td>\n",
       "      <td>0.0</td>\n",
       "      <td>...</td>\n",
       "      <td>0</td>\n",
       "      <td>0</td>\n",
       "      <td>0</td>\n",
       "      <td>0</td>\n",
       "      <td>0</td>\n",
       "      <td>0</td>\n",
       "      <td>0</td>\n",
       "      <td>0</td>\n",
       "      <td>0</td>\n",
       "      <td>0</td>\n",
       "      <td>0</td>\n",
       "      <td>0</td>\n",
       "      <td>0</td>\n",
       "      <td>0</td>\n",
       "      <td>0</td>\n",
       "      <td>0</td>\n",
       "      <td>0</td>\n",
       "      <td>0</td>\n",
       "      <td>0</td>\n",
       "      <td>0</td>\n",
       "      <td>0</td>\n",
       "      <td>0</td>\n",
       "      <td>0</td>\n",
       "      <td>0</td>\n",
       "      <td>1</td>\n",
       "      <td>0</td>\n",
       "      <td>0</td>\n",
       "      <td>0</td>\n",
       "      <td>0</td>\n",
       "      <td>0</td>\n",
       "      <td>0</td>\n",
       "      <td>0</td>\n",
       "      <td>0</td>\n",
       "      <td>0</td>\n",
       "      <td>0</td>\n",
       "      <td>0</td>\n",
       "      <td>0</td>\n",
       "      <td>0</td>\n",
       "      <td>0</td>\n",
       "      <td>1</td>\n",
       "    </tr>\n",
       "    <tr>\n",
       "      <th>1</th>\n",
       "      <td>1.0</td>\n",
       "      <td>0.0</td>\n",
       "      <td>0.0</td>\n",
       "      <td>0.0</td>\n",
       "      <td>0.0</td>\n",
       "      <td>0.0</td>\n",
       "      <td>0.0</td>\n",
       "      <td>0.0</td>\n",
       "      <td>0.0</td>\n",
       "      <td>0.0</td>\n",
       "      <td>0.0</td>\n",
       "      <td>0.0</td>\n",
       "      <td>0.0</td>\n",
       "      <td>0.0</td>\n",
       "      <td>0.0</td>\n",
       "      <td>0.0</td>\n",
       "      <td>0.0</td>\n",
       "      <td>0.0</td>\n",
       "      <td>0.0</td>\n",
       "      <td>0.0</td>\n",
       "      <td>0.0</td>\n",
       "      <td>0.0</td>\n",
       "      <td>0.0</td>\n",
       "      <td>0.0</td>\n",
       "      <td>0.0</td>\n",
       "      <td>0.0</td>\n",
       "      <td>0.0</td>\n",
       "      <td>0.0</td>\n",
       "      <td>0.0</td>\n",
       "      <td>0.0</td>\n",
       "      <td>0.0</td>\n",
       "      <td>0.0</td>\n",
       "      <td>0.0</td>\n",
       "      <td>1.0</td>\n",
       "      <td>0.0</td>\n",
       "      <td>0.0</td>\n",
       "      <td>0.0</td>\n",
       "      <td>0.0</td>\n",
       "      <td>0.0</td>\n",
       "      <td>0.0</td>\n",
       "      <td>...</td>\n",
       "      <td>0</td>\n",
       "      <td>0</td>\n",
       "      <td>0</td>\n",
       "      <td>0</td>\n",
       "      <td>0</td>\n",
       "      <td>0</td>\n",
       "      <td>0</td>\n",
       "      <td>0</td>\n",
       "      <td>0</td>\n",
       "      <td>1</td>\n",
       "      <td>0</td>\n",
       "      <td>0</td>\n",
       "      <td>0</td>\n",
       "      <td>0</td>\n",
       "      <td>1</td>\n",
       "      <td>0</td>\n",
       "      <td>0</td>\n",
       "      <td>0</td>\n",
       "      <td>0</td>\n",
       "      <td>0</td>\n",
       "      <td>0</td>\n",
       "      <td>0</td>\n",
       "      <td>0</td>\n",
       "      <td>0</td>\n",
       "      <td>1</td>\n",
       "      <td>0</td>\n",
       "      <td>0</td>\n",
       "      <td>1</td>\n",
       "      <td>0</td>\n",
       "      <td>0</td>\n",
       "      <td>0</td>\n",
       "      <td>0</td>\n",
       "      <td>0</td>\n",
       "      <td>0</td>\n",
       "      <td>0</td>\n",
       "      <td>0</td>\n",
       "      <td>0</td>\n",
       "      <td>0</td>\n",
       "      <td>0</td>\n",
       "      <td>1</td>\n",
       "    </tr>\n",
       "    <tr>\n",
       "      <th>2</th>\n",
       "      <td>1.0</td>\n",
       "      <td>0.0</td>\n",
       "      <td>0.0</td>\n",
       "      <td>0.0</td>\n",
       "      <td>0.0</td>\n",
       "      <td>0.0</td>\n",
       "      <td>0.0</td>\n",
       "      <td>0.0</td>\n",
       "      <td>0.0</td>\n",
       "      <td>0.0</td>\n",
       "      <td>0.0</td>\n",
       "      <td>0.0</td>\n",
       "      <td>0.0</td>\n",
       "      <td>0.0</td>\n",
       "      <td>0.0</td>\n",
       "      <td>0.0</td>\n",
       "      <td>0.0</td>\n",
       "      <td>0.0</td>\n",
       "      <td>0.0</td>\n",
       "      <td>0.0</td>\n",
       "      <td>0.0</td>\n",
       "      <td>0.0</td>\n",
       "      <td>0.0</td>\n",
       "      <td>0.0</td>\n",
       "      <td>0.0</td>\n",
       "      <td>0.0</td>\n",
       "      <td>0.0</td>\n",
       "      <td>0.0</td>\n",
       "      <td>0.0</td>\n",
       "      <td>0.0</td>\n",
       "      <td>0.0</td>\n",
       "      <td>0.0</td>\n",
       "      <td>0.0</td>\n",
       "      <td>1.0</td>\n",
       "      <td>0.0</td>\n",
       "      <td>0.0</td>\n",
       "      <td>0.0</td>\n",
       "      <td>0.0</td>\n",
       "      <td>0.0</td>\n",
       "      <td>0.0</td>\n",
       "      <td>...</td>\n",
       "      <td>0</td>\n",
       "      <td>0</td>\n",
       "      <td>0</td>\n",
       "      <td>0</td>\n",
       "      <td>0</td>\n",
       "      <td>0</td>\n",
       "      <td>0</td>\n",
       "      <td>0</td>\n",
       "      <td>0</td>\n",
       "      <td>1</td>\n",
       "      <td>0</td>\n",
       "      <td>0</td>\n",
       "      <td>0</td>\n",
       "      <td>0</td>\n",
       "      <td>1</td>\n",
       "      <td>0</td>\n",
       "      <td>0</td>\n",
       "      <td>0</td>\n",
       "      <td>0</td>\n",
       "      <td>0</td>\n",
       "      <td>0</td>\n",
       "      <td>0</td>\n",
       "      <td>0</td>\n",
       "      <td>0</td>\n",
       "      <td>1</td>\n",
       "      <td>0</td>\n",
       "      <td>1</td>\n",
       "      <td>0</td>\n",
       "      <td>0</td>\n",
       "      <td>0</td>\n",
       "      <td>0</td>\n",
       "      <td>0</td>\n",
       "      <td>0</td>\n",
       "      <td>0</td>\n",
       "      <td>0</td>\n",
       "      <td>0</td>\n",
       "      <td>0</td>\n",
       "      <td>0</td>\n",
       "      <td>1</td>\n",
       "      <td>1</td>\n",
       "    </tr>\n",
       "    <tr>\n",
       "      <th>3</th>\n",
       "      <td>0.0</td>\n",
       "      <td>0.0</td>\n",
       "      <td>0.0</td>\n",
       "      <td>0.0</td>\n",
       "      <td>0.0</td>\n",
       "      <td>0.0</td>\n",
       "      <td>0.0</td>\n",
       "      <td>0.0</td>\n",
       "      <td>0.0</td>\n",
       "      <td>0.0</td>\n",
       "      <td>0.0</td>\n",
       "      <td>0.0</td>\n",
       "      <td>0.0</td>\n",
       "      <td>0.0</td>\n",
       "      <td>0.0</td>\n",
       "      <td>0.0</td>\n",
       "      <td>0.0</td>\n",
       "      <td>1.0</td>\n",
       "      <td>0.0</td>\n",
       "      <td>0.0</td>\n",
       "      <td>0.0</td>\n",
       "      <td>0.0</td>\n",
       "      <td>0.0</td>\n",
       "      <td>0.0</td>\n",
       "      <td>0.0</td>\n",
       "      <td>0.0</td>\n",
       "      <td>0.0</td>\n",
       "      <td>0.0</td>\n",
       "      <td>0.0</td>\n",
       "      <td>0.0</td>\n",
       "      <td>0.0</td>\n",
       "      <td>0.0</td>\n",
       "      <td>0.0</td>\n",
       "      <td>1.0</td>\n",
       "      <td>0.0</td>\n",
       "      <td>0.0</td>\n",
       "      <td>0.0</td>\n",
       "      <td>0.0</td>\n",
       "      <td>0.0</td>\n",
       "      <td>0.0</td>\n",
       "      <td>...</td>\n",
       "      <td>0</td>\n",
       "      <td>0</td>\n",
       "      <td>0</td>\n",
       "      <td>0</td>\n",
       "      <td>0</td>\n",
       "      <td>0</td>\n",
       "      <td>0</td>\n",
       "      <td>0</td>\n",
       "      <td>0</td>\n",
       "      <td>0</td>\n",
       "      <td>0</td>\n",
       "      <td>0</td>\n",
       "      <td>0</td>\n",
       "      <td>0</td>\n",
       "      <td>1</td>\n",
       "      <td>0</td>\n",
       "      <td>0</td>\n",
       "      <td>0</td>\n",
       "      <td>0</td>\n",
       "      <td>0</td>\n",
       "      <td>0</td>\n",
       "      <td>0</td>\n",
       "      <td>0</td>\n",
       "      <td>0</td>\n",
       "      <td>0</td>\n",
       "      <td>0</td>\n",
       "      <td>1</td>\n",
       "      <td>1</td>\n",
       "      <td>0</td>\n",
       "      <td>0</td>\n",
       "      <td>0</td>\n",
       "      <td>0</td>\n",
       "      <td>0</td>\n",
       "      <td>0</td>\n",
       "      <td>0</td>\n",
       "      <td>0</td>\n",
       "      <td>0</td>\n",
       "      <td>0</td>\n",
       "      <td>1</td>\n",
       "      <td>1</td>\n",
       "    </tr>\n",
       "    <tr>\n",
       "      <th>4</th>\n",
       "      <td>1.0</td>\n",
       "      <td>0.0</td>\n",
       "      <td>0.0</td>\n",
       "      <td>0.0</td>\n",
       "      <td>0.0</td>\n",
       "      <td>0.0</td>\n",
       "      <td>0.0</td>\n",
       "      <td>0.0</td>\n",
       "      <td>0.0</td>\n",
       "      <td>0.0</td>\n",
       "      <td>0.0</td>\n",
       "      <td>0.0</td>\n",
       "      <td>0.0</td>\n",
       "      <td>0.0</td>\n",
       "      <td>0.0</td>\n",
       "      <td>0.0</td>\n",
       "      <td>0.0</td>\n",
       "      <td>0.0</td>\n",
       "      <td>0.0</td>\n",
       "      <td>0.0</td>\n",
       "      <td>0.0</td>\n",
       "      <td>0.0</td>\n",
       "      <td>0.0</td>\n",
       "      <td>0.0</td>\n",
       "      <td>0.0</td>\n",
       "      <td>0.0</td>\n",
       "      <td>0.0</td>\n",
       "      <td>0.0</td>\n",
       "      <td>0.0</td>\n",
       "      <td>0.0</td>\n",
       "      <td>0.0</td>\n",
       "      <td>0.0</td>\n",
       "      <td>0.0</td>\n",
       "      <td>1.0</td>\n",
       "      <td>0.0</td>\n",
       "      <td>0.0</td>\n",
       "      <td>0.0</td>\n",
       "      <td>0.0</td>\n",
       "      <td>0.0</td>\n",
       "      <td>0.0</td>\n",
       "      <td>...</td>\n",
       "      <td>0</td>\n",
       "      <td>0</td>\n",
       "      <td>0</td>\n",
       "      <td>0</td>\n",
       "      <td>0</td>\n",
       "      <td>0</td>\n",
       "      <td>0</td>\n",
       "      <td>0</td>\n",
       "      <td>0</td>\n",
       "      <td>1</td>\n",
       "      <td>0</td>\n",
       "      <td>0</td>\n",
       "      <td>0</td>\n",
       "      <td>0</td>\n",
       "      <td>1</td>\n",
       "      <td>0</td>\n",
       "      <td>0</td>\n",
       "      <td>0</td>\n",
       "      <td>0</td>\n",
       "      <td>0</td>\n",
       "      <td>0</td>\n",
       "      <td>0</td>\n",
       "      <td>0</td>\n",
       "      <td>0</td>\n",
       "      <td>0</td>\n",
       "      <td>0</td>\n",
       "      <td>1</td>\n",
       "      <td>0</td>\n",
       "      <td>0</td>\n",
       "      <td>0</td>\n",
       "      <td>0</td>\n",
       "      <td>0</td>\n",
       "      <td>0</td>\n",
       "      <td>0</td>\n",
       "      <td>0</td>\n",
       "      <td>0</td>\n",
       "      <td>0</td>\n",
       "      <td>0</td>\n",
       "      <td>0</td>\n",
       "      <td>1</td>\n",
       "    </tr>\n",
       "  </tbody>\n",
       "</table>\n",
       "<p>5 rows × 200 columns</p>\n",
       "</div>"
      ],
      "text/plain": [
       "     0    1    2    3    4    5    6  ...  193  194  195  196  197  198  199\n",
       "0  1.0  0.0  0.0  0.0  0.0  0.0  0.0  ...    0    0    0    0    0    0    1\n",
       "1  1.0  0.0  0.0  0.0  0.0  0.0  0.0  ...    0    0    0    0    0    0    1\n",
       "2  1.0  0.0  0.0  0.0  0.0  0.0  0.0  ...    0    0    0    0    0    1    1\n",
       "3  0.0  0.0  0.0  0.0  0.0  0.0  0.0  ...    0    0    0    0    0    1    1\n",
       "4  1.0  0.0  0.0  0.0  0.0  0.0  0.0  ...    0    0    0    0    0    0    1\n",
       "\n",
       "[5 rows x 200 columns]"
      ]
     },
     "execution_count": 7,
     "metadata": {
      "tags": []
     },
     "output_type": "execute_result"
    }
   ],
   "source": [
    "Train_Dataset.head()"
   ]
  },
  {
   "cell_type": "code",
   "execution_count": null,
   "metadata": {
    "colab": {
     "base_uri": "https://localhost:8080/"
    },
    "id": "P7TmIsyHDyNS",
    "outputId": "4f4d5ae7-cb8e-4a0b-c245-b3106eaac86d"
   },
   "outputs": [
    {
     "name": "stdout",
     "output_type": "stream",
     "text": [
      "0       1.000000\n",
      "1       0.000000\n",
      "2       0.000000\n",
      "3       0.000000\n",
      "4       0.000000\n",
      "5       0.000000\n",
      "6       0.000000\n",
      "7       0.000000\n",
      "8       0.000000\n",
      "9       0.000000\n",
      "10      0.000000\n",
      "11      0.000000\n",
      "12      0.000000\n",
      "13      0.000000\n",
      "14      0.000000\n",
      "15      0.000000\n",
      "16      0.000000\n",
      "17      0.000000\n",
      "18      0.000000\n",
      "19      0.000000\n",
      "20      0.000000\n",
      "21      0.000000\n",
      "22      0.000000\n",
      "23      0.000000\n",
      "24      0.000000\n",
      "25      0.000000\n",
      "26      0.000000\n",
      "27      0.000000\n",
      "28      0.000000\n",
      "29      0.000000\n",
      "30      0.000000\n",
      "31      0.000000\n",
      "32      0.000000\n",
      "33      1.000000\n",
      "34      0.000000\n",
      "35      0.000000\n",
      "36      0.000000\n",
      "37      0.000000\n",
      "38      0.000000\n",
      "39      0.000000\n",
      "40      1.000000\n",
      "41      0.000000\n",
      "42      0.000000\n",
      "43      0.000000\n",
      "44      0.000000\n",
      "45      1.000000\n",
      "46      0.000000\n",
      "47      3.000000\n",
      "48      1.000000\n",
      "49      1.000000\n",
      "50      2.000000\n",
      "51    100.000000\n",
      "52      1.000000\n",
      "53      1.000000\n",
      "54      5.010635\n",
      "55      0.000000\n",
      "56      0.000000\n",
      "57      1.000000\n",
      "58      0.000000\n",
      "59      0.000000\n",
      "Name: 0, dtype: float64\n"
     ]
    }
   ],
   "source": [
    "print(Train_Dataset.iloc[0, :60])"
   ]
  },
  {
   "cell_type": "code",
   "execution_count": null,
   "metadata": {
    "colab": {
     "base_uri": "https://localhost:8080/"
    },
    "id": "MkoE0sPcAjJa",
    "outputId": "86c4db35-dbb2-44a7-a0e3-1eda1ccc19e7"
   },
   "outputs": [
    {
     "data": {
      "text/plain": [
       "0      0\n",
       "1      0\n",
       "2      0\n",
       "3      0\n",
       "4      0\n",
       "      ..\n",
       "195    0\n",
       "196    0\n",
       "197    0\n",
       "198    0\n",
       "199    0\n",
       "Length: 200, dtype: int64"
      ]
     },
     "execution_count": 10,
     "metadata": {
      "tags": []
     },
     "output_type": "execute_result"
    }
   ],
   "source": [
    "Train_Dataset.isnull().sum()"
   ]
  },
  {
   "cell_type": "code",
   "execution_count": null,
   "metadata": {
    "colab": {
     "base_uri": "https://localhost:8080/"
    },
    "id": "_DdduDOqDQ7Z",
    "outputId": "aee3dc3a-9481-47d7-aca8-dc2ab8646b6a"
   },
   "outputs": [
    {
     "data": {
      "text/plain": [
       "0"
      ]
     },
     "execution_count": 11,
     "metadata": {
      "tags": []
     },
     "output_type": "execute_result"
    }
   ],
   "source": [
    "Train_Dataset.isnull().sum().sum()"
   ]
  },
  {
   "cell_type": "code",
   "execution_count": null,
   "metadata": {
    "colab": {
     "base_uri": "https://localhost:8080/"
    },
    "id": "tEQsAu_fEfPi",
    "outputId": "f531311f-ecd4-4eac-8c6e-ff3110dcffff"
   },
   "outputs": [
    {
     "data": {
      "text/plain": [
       "(49760, 200)"
      ]
     },
     "execution_count": 12,
     "metadata": {
      "tags": []
     },
     "output_type": "execute_result"
    }
   ],
   "source": [
    "Train_Dataset.shape"
   ]
  },
  {
   "cell_type": "code",
   "execution_count": null,
   "metadata": {
    "colab": {
     "base_uri": "https://localhost:8080/"
    },
    "id": "7wBSFECqEqqo",
    "outputId": "c6899e90-46f8-412d-93a1-287855c36878"
   },
   "outputs": [
    {
     "data": {
      "text/plain": [
       "Index(['0', '1', '2', '3', '4', '5', '6', '7', '8', '9',\n",
       "       ...\n",
       "       '190', '191', '192', '193', '194', '195', '196', '197', '198', '199'],\n",
       "      dtype='object', length=200)"
      ]
     },
     "execution_count": 13,
     "metadata": {
      "tags": []
     },
     "output_type": "execute_result"
    }
   ],
   "source": [
    "Train_Dataset.columns"
   ]
  },
  {
   "cell_type": "code",
   "execution_count": null,
   "metadata": {
    "id": "F8MyJWkRDfIk"
   },
   "outputs": [],
   "source": [
    "X = Train_Dataset.iloc[:, Train_Dataset.columns != '54'].values\n",
    "y = Train_Dataset.iloc[:, 54].values\n"
   ]
  },
  {
   "cell_type": "code",
   "execution_count": null,
   "metadata": {
    "colab": {
     "base_uri": "https://localhost:8080/"
    },
    "id": "HlO8dPoBEkX8",
    "outputId": "fa2b6520-c28d-4e3f-b679-808119f61355"
   },
   "outputs": [
    {
     "data": {
      "text/plain": [
       "(49760, 199)"
      ]
     },
     "execution_count": 15,
     "metadata": {
      "tags": []
     },
     "output_type": "execute_result"
    }
   ],
   "source": [
    "X.shape"
   ]
  },
  {
   "cell_type": "code",
   "execution_count": null,
   "metadata": {
    "colab": {
     "base_uri": "https://localhost:8080/"
    },
    "id": "CtfIA3MzDkRK",
    "outputId": "a1d65ec1-c01c-42e7-f3c4-d183ad28687b"
   },
   "outputs": [
    {
     "data": {
      "text/plain": [
       "array([[1., 0., 0., ..., 0., 0., 1.],\n",
       "       [1., 0., 0., ..., 0., 0., 1.],\n",
       "       [1., 0., 0., ..., 0., 1., 1.],\n",
       "       ...,\n",
       "       [1., 0., 0., ..., 0., 1., 1.],\n",
       "       [1., 0., 0., ..., 0., 1., 1.],\n",
       "       [0., 0., 0., ..., 0., 0., 1.]])"
      ]
     },
     "execution_count": 16,
     "metadata": {
      "tags": []
     },
     "output_type": "execute_result"
    }
   ],
   "source": [
    "X"
   ]
  },
  {
   "cell_type": "code",
   "execution_count": null,
   "metadata": {
    "colab": {
     "base_uri": "https://localhost:8080/"
    },
    "id": "8dvPM8fNDnby",
    "outputId": "4d60a7dd-bbf3-4cb9-ff8f-0f6ea2d9e9f1"
   },
   "outputs": [
    {
     "data": {
      "text/plain": [
       "array([  1.,   0.,   0.,   0.,   0.,   0.,   0.,   0.,   0.,   0.,   0.,\n",
       "         0.,   0.,   0.,   0.,   0.,   0.,   0.,   0.,   0.,   0.,   0.,\n",
       "         0.,   0.,   0.,   0.,   0.,   0.,   0.,   0.,   0.,   0.,   0.,\n",
       "         1.,   0.,   0.,   0.,   0.,   0.,   0.,   1.,   0.,   0.,   0.,\n",
       "         0.,   1.,   0.,   3.,   1.,   1.,   2., 100.,   1.,   1.,   0.,\n",
       "         0.,   1.,   0.,   0.,   0.,   0.,   0.,   0.,   0.,   0.,   0.,\n",
       "         0.,   0.,   0.,   0.,   0.,   0.,   0.,   0.,   0.,   0.,   0.,\n",
       "         0.,   0.,   0.,   0.,   0.,   0.,   0.,   0.,   0.,   0.,   0.,\n",
       "         0.,   0.,   1.,   1.,   0.,   0.,   0.,   1.,   0.,   0.,   0.,\n",
       "         0.,   0.,   0.,   0.,   0.,   0.,   0.,   0.,   0.,   0.,   0.,\n",
       "         0.,   0.,   1.,   0.,   0.,   0.,   0.,   1.,   0.,   0.,   0.,\n",
       "         0.,   0.,   1.,   0.,   0.,   0.,   0.,   0.,   0.,   0.,   0.,\n",
       "         1.,   0.,   1.,   1.,   0.,   0.,   0.,   0.,   0.,   0.,   0.,\n",
       "         0.,   0.,   0.,   0.,   0.,   0.,   0.,   0.,   0.,   0.,   0.,\n",
       "         0.,   0.,   0.,   0.,   0.,   0.,   0.,   0.,   0.,   0.,   0.,\n",
       "         0.,   0.,   0.,   0.,   0.,   0.,   0.,   0.,   0.,   0.,   0.,\n",
       "         0.,   0.,   0.,   0.,   0.,   0.,   0.,   1.,   0.,   0.,   0.,\n",
       "         0.,   0.,   0.,   0.,   0.,   0.,   0.,   0.,   0.,   0.,   0.,\n",
       "         1.])"
      ]
     },
     "execution_count": 17,
     "metadata": {
      "tags": []
     },
     "output_type": "execute_result"
    }
   ],
   "source": [
    "X[0]"
   ]
  },
  {
   "cell_type": "code",
   "execution_count": null,
   "metadata": {
    "colab": {
     "base_uri": "https://localhost:8080/"
    },
    "id": "kq03jIy7DlZ8",
    "outputId": "8736da5c-a248-431b-f386-2de611ecbb32"
   },
   "outputs": [
    {
     "data": {
      "text/plain": [
       "array([5.01063529, 5.12989872, 4.97673374, ..., 5.0689042 , 4.2341065 ,\n",
       "       3.87120101])"
      ]
     },
     "execution_count": 18,
     "metadata": {
      "tags": []
     },
     "output_type": "execute_result"
    }
   ],
   "source": [
    "y"
   ]
  },
  {
   "cell_type": "code",
   "execution_count": null,
   "metadata": {
    "id": "STi6oGlDExKX"
   },
   "outputs": [],
   "source": [
    "from sklearn.model_selection import train_test_split\n",
    "x_train, x_test, y_train, y_test = train_test_split(X,y,test_size = 0.2, random_state = 0)"
   ]
  },
  {
   "cell_type": "markdown",
   "metadata": {
    "id": "AP00iGNtcLGe"
   },
   "source": [
    "## Applying Deep Learning Model\n",
    "### ANN with 4 Layer"
   ]
  },
  {
   "cell_type": "code",
   "execution_count": null,
   "metadata": {
    "id": "Nt-guHc0-LjP"
   },
   "outputs": [],
   "source": [
    "import time\n",
    "import matplotlib.pyplot as plt"
   ]
  },
  {
   "cell_type": "code",
   "execution_count": null,
   "metadata": {
    "id": "Mcjpvnfq4B7x"
   },
   "outputs": [],
   "source": [
    "from sklearn.metrics import explained_variance_score, mean_squared_error, r2_score\n",
    "from keras import models, layers, optimizers, regularizers\n",
    "from IPython.display import SVG\n",
    "from keras.utils.vis_utils import model_to_dot"
   ]
  },
  {
   "cell_type": "code",
   "execution_count": null,
   "metadata": {
    "colab": {
     "base_uri": "https://localhost:8080/",
     "height": 1000
    },
    "id": "j8BjkKtbH1bR",
    "outputId": "38f9764d-560c-439c-8573-d5057b97d117"
   },
   "outputs": [
    {
     "name": "stdout",
     "output_type": "stream",
     "text": [
      "Model: \"sequential_2\"\n",
      "_________________________________________________________________\n",
      "Layer (type)                 Output Shape              Param #   \n",
      "=================================================================\n",
      "dense (Dense)                (None, 128)               25600     \n",
      "_________________________________________________________________\n",
      "dense_1 (Dense)              (None, 256)               33024     \n",
      "_________________________________________________________________\n",
      "dense_2 (Dense)              (None, 256)               65792     \n",
      "_________________________________________________________________\n",
      "dense_3 (Dense)              (None, 512)               131584    \n",
      "_________________________________________________________________\n",
      "dense_4 (Dense)              (None, 1)                 513       \n",
      "=================================================================\n",
      "Total params: 256,513\n",
      "Trainable params: 256,513\n",
      "Non-trainable params: 0\n",
      "_________________________________________________________________\n",
      "None\n"
     ]
    },
    {
     "data": {
      "image/svg+xml": [
       "<svg height=\"627pt\" viewBox=\"0.00 0.00 242.00 470.00\" width=\"323pt\" xmlns=\"http://www.w3.org/2000/svg\" xmlns:xlink=\"http://www.w3.org/1999/xlink\">\n",
       "<g class=\"graph\" id=\"graph0\" transform=\"scale(1.3333 1.3333) rotate(0) translate(4 466)\">\n",
       "<title>G</title>\n",
       "<polygon fill=\"#ffffff\" points=\"-4,4 -4,-466 238,-466 238,4 -4,4\" stroke=\"transparent\"/>\n",
       "<!-- 140166678968720 -->\n",
       "<g class=\"node\" id=\"node1\">\n",
       "<title>140166678968720</title>\n",
       "<polygon fill=\"none\" points=\"0,-415.5 0,-461.5 234,-461.5 234,-415.5 0,-415.5\" stroke=\"#000000\"/>\n",
       "<text fill=\"#000000\" font-family=\"Times,serif\" font-size=\"14.00\" text-anchor=\"middle\" x=\"40\" y=\"-434.8\">InputLayer</text>\n",
       "<polyline fill=\"none\" points=\"80,-415.5 80,-461.5 \" stroke=\"#000000\"/>\n",
       "<text fill=\"#000000\" font-family=\"Times,serif\" font-size=\"14.00\" text-anchor=\"middle\" x=\"109\" y=\"-446.3\">input:</text>\n",
       "<polyline fill=\"none\" points=\"80,-438.5 138,-438.5 \" stroke=\"#000000\"/>\n",
       "<text fill=\"#000000\" font-family=\"Times,serif\" font-size=\"14.00\" text-anchor=\"middle\" x=\"109\" y=\"-423.3\">output:</text>\n",
       "<polyline fill=\"none\" points=\"138,-415.5 138,-461.5 \" stroke=\"#000000\"/>\n",
       "<text fill=\"#000000\" font-family=\"Times,serif\" font-size=\"14.00\" text-anchor=\"middle\" x=\"186\" y=\"-446.3\">[(None, 199)]</text>\n",
       "<polyline fill=\"none\" points=\"138,-438.5 234,-438.5 \" stroke=\"#000000\"/>\n",
       "<text fill=\"#000000\" font-family=\"Times,serif\" font-size=\"14.00\" text-anchor=\"middle\" x=\"186\" y=\"-423.3\">[(None, 199)]</text>\n",
       "</g>\n",
       "<!-- 140167640096592 -->\n",
       "<g class=\"node\" id=\"node2\">\n",
       "<title>140167640096592</title>\n",
       "<polygon fill=\"none\" points=\"18.5,-332.5 18.5,-378.5 215.5,-378.5 215.5,-332.5 18.5,-332.5\" stroke=\"#000000\"/>\n",
       "<text fill=\"#000000\" font-family=\"Times,serif\" font-size=\"14.00\" text-anchor=\"middle\" x=\"44.5\" y=\"-351.8\">Dense</text>\n",
       "<polyline fill=\"none\" points=\"70.5,-332.5 70.5,-378.5 \" stroke=\"#000000\"/>\n",
       "<text fill=\"#000000\" font-family=\"Times,serif\" font-size=\"14.00\" text-anchor=\"middle\" x=\"99.5\" y=\"-363.3\">input:</text>\n",
       "<polyline fill=\"none\" points=\"70.5,-355.5 128.5,-355.5 \" stroke=\"#000000\"/>\n",
       "<text fill=\"#000000\" font-family=\"Times,serif\" font-size=\"14.00\" text-anchor=\"middle\" x=\"99.5\" y=\"-340.3\">output:</text>\n",
       "<polyline fill=\"none\" points=\"128.5,-332.5 128.5,-378.5 \" stroke=\"#000000\"/>\n",
       "<text fill=\"#000000\" font-family=\"Times,serif\" font-size=\"14.00\" text-anchor=\"middle\" x=\"172\" y=\"-363.3\">(None, 199)</text>\n",
       "<polyline fill=\"none\" points=\"128.5,-355.5 215.5,-355.5 \" stroke=\"#000000\"/>\n",
       "<text fill=\"#000000\" font-family=\"Times,serif\" font-size=\"14.00\" text-anchor=\"middle\" x=\"172\" y=\"-340.3\">(None, 128)</text>\n",
       "</g>\n",
       "<!-- 140166678968720&#45;&gt;140167640096592 -->\n",
       "<g class=\"edge\" id=\"edge1\">\n",
       "<title>140166678968720-&gt;140167640096592</title>\n",
       "<path d=\"M117,-415.3799C117,-407.1745 117,-397.7679 117,-388.8786\" fill=\"none\" stroke=\"#000000\"/>\n",
       "<polygon fill=\"#000000\" points=\"120.5001,-388.784 117,-378.784 113.5001,-388.784 120.5001,-388.784\" stroke=\"#000000\"/>\n",
       "</g>\n",
       "<!-- 140166678371088 -->\n",
       "<g class=\"node\" id=\"node3\">\n",
       "<title>140166678371088</title>\n",
       "<polygon fill=\"none\" points=\"18.5,-249.5 18.5,-295.5 215.5,-295.5 215.5,-249.5 18.5,-249.5\" stroke=\"#000000\"/>\n",
       "<text fill=\"#000000\" font-family=\"Times,serif\" font-size=\"14.00\" text-anchor=\"middle\" x=\"44.5\" y=\"-268.8\">Dense</text>\n",
       "<polyline fill=\"none\" points=\"70.5,-249.5 70.5,-295.5 \" stroke=\"#000000\"/>\n",
       "<text fill=\"#000000\" font-family=\"Times,serif\" font-size=\"14.00\" text-anchor=\"middle\" x=\"99.5\" y=\"-280.3\">input:</text>\n",
       "<polyline fill=\"none\" points=\"70.5,-272.5 128.5,-272.5 \" stroke=\"#000000\"/>\n",
       "<text fill=\"#000000\" font-family=\"Times,serif\" font-size=\"14.00\" text-anchor=\"middle\" x=\"99.5\" y=\"-257.3\">output:</text>\n",
       "<polyline fill=\"none\" points=\"128.5,-249.5 128.5,-295.5 \" stroke=\"#000000\"/>\n",
       "<text fill=\"#000000\" font-family=\"Times,serif\" font-size=\"14.00\" text-anchor=\"middle\" x=\"172\" y=\"-280.3\">(None, 128)</text>\n",
       "<polyline fill=\"none\" points=\"128.5,-272.5 215.5,-272.5 \" stroke=\"#000000\"/>\n",
       "<text fill=\"#000000\" font-family=\"Times,serif\" font-size=\"14.00\" text-anchor=\"middle\" x=\"172\" y=\"-257.3\">(None, 256)</text>\n",
       "</g>\n",
       "<!-- 140167640096592&#45;&gt;140166678371088 -->\n",
       "<g class=\"edge\" id=\"edge2\">\n",
       "<title>140167640096592-&gt;140166678371088</title>\n",
       "<path d=\"M117,-332.3799C117,-324.1745 117,-314.7679 117,-305.8786\" fill=\"none\" stroke=\"#000000\"/>\n",
       "<polygon fill=\"#000000\" points=\"120.5001,-305.784 117,-295.784 113.5001,-305.784 120.5001,-305.784\" stroke=\"#000000\"/>\n",
       "</g>\n",
       "<!-- 140166678371664 -->\n",
       "<g class=\"node\" id=\"node4\">\n",
       "<title>140166678371664</title>\n",
       "<polygon fill=\"none\" points=\"18.5,-166.5 18.5,-212.5 215.5,-212.5 215.5,-166.5 18.5,-166.5\" stroke=\"#000000\"/>\n",
       "<text fill=\"#000000\" font-family=\"Times,serif\" font-size=\"14.00\" text-anchor=\"middle\" x=\"44.5\" y=\"-185.8\">Dense</text>\n",
       "<polyline fill=\"none\" points=\"70.5,-166.5 70.5,-212.5 \" stroke=\"#000000\"/>\n",
       "<text fill=\"#000000\" font-family=\"Times,serif\" font-size=\"14.00\" text-anchor=\"middle\" x=\"99.5\" y=\"-197.3\">input:</text>\n",
       "<polyline fill=\"none\" points=\"70.5,-189.5 128.5,-189.5 \" stroke=\"#000000\"/>\n",
       "<text fill=\"#000000\" font-family=\"Times,serif\" font-size=\"14.00\" text-anchor=\"middle\" x=\"99.5\" y=\"-174.3\">output:</text>\n",
       "<polyline fill=\"none\" points=\"128.5,-166.5 128.5,-212.5 \" stroke=\"#000000\"/>\n",
       "<text fill=\"#000000\" font-family=\"Times,serif\" font-size=\"14.00\" text-anchor=\"middle\" x=\"172\" y=\"-197.3\">(None, 256)</text>\n",
       "<polyline fill=\"none\" points=\"128.5,-189.5 215.5,-189.5 \" stroke=\"#000000\"/>\n",
       "<text fill=\"#000000\" font-family=\"Times,serif\" font-size=\"14.00\" text-anchor=\"middle\" x=\"172\" y=\"-174.3\">(None, 256)</text>\n",
       "</g>\n",
       "<!-- 140166678371088&#45;&gt;140166678371664 -->\n",
       "<g class=\"edge\" id=\"edge3\">\n",
       "<title>140166678371088-&gt;140166678371664</title>\n",
       "<path d=\"M117,-249.3799C117,-241.1745 117,-231.7679 117,-222.8786\" fill=\"none\" stroke=\"#000000\"/>\n",
       "<polygon fill=\"#000000\" points=\"120.5001,-222.784 117,-212.784 113.5001,-222.784 120.5001,-222.784\" stroke=\"#000000\"/>\n",
       "</g>\n",
       "<!-- 140166678137424 -->\n",
       "<g class=\"node\" id=\"node5\">\n",
       "<title>140166678137424</title>\n",
       "<polygon fill=\"none\" points=\"18.5,-83.5 18.5,-129.5 215.5,-129.5 215.5,-83.5 18.5,-83.5\" stroke=\"#000000\"/>\n",
       "<text fill=\"#000000\" font-family=\"Times,serif\" font-size=\"14.00\" text-anchor=\"middle\" x=\"44.5\" y=\"-102.8\">Dense</text>\n",
       "<polyline fill=\"none\" points=\"70.5,-83.5 70.5,-129.5 \" stroke=\"#000000\"/>\n",
       "<text fill=\"#000000\" font-family=\"Times,serif\" font-size=\"14.00\" text-anchor=\"middle\" x=\"99.5\" y=\"-114.3\">input:</text>\n",
       "<polyline fill=\"none\" points=\"70.5,-106.5 128.5,-106.5 \" stroke=\"#000000\"/>\n",
       "<text fill=\"#000000\" font-family=\"Times,serif\" font-size=\"14.00\" text-anchor=\"middle\" x=\"99.5\" y=\"-91.3\">output:</text>\n",
       "<polyline fill=\"none\" points=\"128.5,-83.5 128.5,-129.5 \" stroke=\"#000000\"/>\n",
       "<text fill=\"#000000\" font-family=\"Times,serif\" font-size=\"14.00\" text-anchor=\"middle\" x=\"172\" y=\"-114.3\">(None, 256)</text>\n",
       "<polyline fill=\"none\" points=\"128.5,-106.5 215.5,-106.5 \" stroke=\"#000000\"/>\n",
       "<text fill=\"#000000\" font-family=\"Times,serif\" font-size=\"14.00\" text-anchor=\"middle\" x=\"172\" y=\"-91.3\">(None, 512)</text>\n",
       "</g>\n",
       "<!-- 140166678371664&#45;&gt;140166678137424 -->\n",
       "<g class=\"edge\" id=\"edge4\">\n",
       "<title>140166678371664-&gt;140166678137424</title>\n",
       "<path d=\"M117,-166.3799C117,-158.1745 117,-148.7679 117,-139.8786\" fill=\"none\" stroke=\"#000000\"/>\n",
       "<polygon fill=\"#000000\" points=\"120.5001,-139.784 117,-129.784 113.5001,-139.784 120.5001,-139.784\" stroke=\"#000000\"/>\n",
       "</g>\n",
       "<!-- 140166678137744 -->\n",
       "<g class=\"node\" id=\"node6\">\n",
       "<title>140166678137744</title>\n",
       "<polygon fill=\"none\" points=\"18.5,-.5 18.5,-46.5 215.5,-46.5 215.5,-.5 18.5,-.5\" stroke=\"#000000\"/>\n",
       "<text fill=\"#000000\" font-family=\"Times,serif\" font-size=\"14.00\" text-anchor=\"middle\" x=\"44.5\" y=\"-19.8\">Dense</text>\n",
       "<polyline fill=\"none\" points=\"70.5,-.5 70.5,-46.5 \" stroke=\"#000000\"/>\n",
       "<text fill=\"#000000\" font-family=\"Times,serif\" font-size=\"14.00\" text-anchor=\"middle\" x=\"99.5\" y=\"-31.3\">input:</text>\n",
       "<polyline fill=\"none\" points=\"70.5,-23.5 128.5,-23.5 \" stroke=\"#000000\"/>\n",
       "<text fill=\"#000000\" font-family=\"Times,serif\" font-size=\"14.00\" text-anchor=\"middle\" x=\"99.5\" y=\"-8.3\">output:</text>\n",
       "<polyline fill=\"none\" points=\"128.5,-.5 128.5,-46.5 \" stroke=\"#000000\"/>\n",
       "<text fill=\"#000000\" font-family=\"Times,serif\" font-size=\"14.00\" text-anchor=\"middle\" x=\"172\" y=\"-31.3\">(None, 512)</text>\n",
       "<polyline fill=\"none\" points=\"128.5,-23.5 215.5,-23.5 \" stroke=\"#000000\"/>\n",
       "<text fill=\"#000000\" font-family=\"Times,serif\" font-size=\"14.00\" text-anchor=\"middle\" x=\"172\" y=\"-8.3\">(None, 1)</text>\n",
       "</g>\n",
       "<!-- 140166678137424&#45;&gt;140166678137744 -->\n",
       "<g class=\"edge\" id=\"edge5\">\n",
       "<title>140166678137424-&gt;140166678137744</title>\n",
       "<path d=\"M117,-83.3799C117,-75.1745 117,-65.7679 117,-56.8786\" fill=\"none\" stroke=\"#000000\"/>\n",
       "<polygon fill=\"#000000\" points=\"120.5001,-56.784 117,-46.784 113.5001,-56.784 120.5001,-56.784\" stroke=\"#000000\"/>\n",
       "</g>\n",
       "</g>\n",
       "</svg>"
      ],
      "text/plain": [
       "<IPython.core.display.SVG object>"
      ]
     },
     "execution_count": 23,
     "metadata": {
      "tags": []
     },
     "output_type": "execute_result"
    }
   ],
   "source": [
    "model = models.Sequential()\n",
    "model.add(layers.Dense(128, input_shape=(x_train.shape[1],), kernel_regularizer=regularizers.l1(0.005), activation='relu'))\n",
    "model.add(layers.Dense(256, kernel_regularizer=regularizers.l1(0.005), activation='relu'))\n",
    "model.add(layers.Dense(256, kernel_regularizer=regularizers.l1(0.005), activation='relu'))\n",
    "model.add(layers.Dense(512, kernel_regularizer=regularizers.l1(0.005), activation='relu'))\n",
    "model.add(layers.Dense(1, activation='linear'))\n",
    "\n",
    "# Compiling the model\n",
    "model.compile(loss='mean_squared_error',\n",
    "            optimizer='adam',\n",
    "            metrics=['mean_squared_error'])\n",
    "\n",
    "# Model summary\n",
    "print(model.summary())\n",
    "\n",
    "# Visualising the neural network\n",
    "SVG(model_to_dot(model, show_layer_names=False, show_shapes=True).create(prog='dot', format='svg'))"
   ]
  },
  {
   "cell_type": "code",
   "execution_count": null,
   "metadata": {
    "colab": {
     "base_uri": "https://localhost:8080/"
    },
    "id": "0jAmEDmK7s8U",
    "outputId": "9b2c3d73-fc25-4bf1-b056-e43d0df79fe7"
   },
   "outputs": [
    {
     "name": "stdout",
     "output_type": "stream",
     "text": [
      "Epoch 1/50\n",
      "140/140 [==============================] - 2s 13ms/step - loss: 50.4920 - mean_squared_error: 3.1254 - val_loss: 19.0149 - val_mean_squared_error: 0.3919\n",
      "Epoch 2/50\n",
      "140/140 [==============================] - 2s 11ms/step - loss: 16.6222 - mean_squared_error: 0.3367 - val_loss: 11.4147 - val_mean_squared_error: 0.2903\n",
      "Epoch 3/50\n",
      "140/140 [==============================] - 2s 11ms/step - loss: 10.2867 - mean_squared_error: 0.2746 - val_loss: 7.5857 - val_mean_squared_error: 0.3134\n",
      "Epoch 4/50\n",
      "140/140 [==============================] - 1s 11ms/step - loss: 6.8837 - mean_squared_error: 0.2668 - val_loss: 5.2119 - val_mean_squared_error: 0.2619\n",
      "Epoch 5/50\n",
      "140/140 [==============================] - 2s 11ms/step - loss: 4.7730 - mean_squared_error: 0.2438 - val_loss: 3.6759 - val_mean_squared_error: 0.2353\n",
      "Epoch 6/50\n",
      "140/140 [==============================] - 1s 11ms/step - loss: 3.4046 - mean_squared_error: 0.2422 - val_loss: 2.6621 - val_mean_squared_error: 0.2246\n",
      "Epoch 7/50\n",
      "140/140 [==============================] - 2s 11ms/step - loss: 2.4760 - mean_squared_error: 0.2292 - val_loss: 1.9676 - val_mean_squared_error: 0.2185\n",
      "Epoch 8/50\n",
      "140/140 [==============================] - 2s 11ms/step - loss: 1.8394 - mean_squared_error: 0.2209 - val_loss: 1.4887 - val_mean_squared_error: 0.2162\n",
      "Epoch 9/50\n",
      "140/140 [==============================] - 2s 11ms/step - loss: 1.4027 - mean_squared_error: 0.2200 - val_loss: 1.1538 - val_mean_squared_error: 0.2129\n",
      "Epoch 10/50\n",
      "140/140 [==============================] - 2s 11ms/step - loss: 1.0975 - mean_squared_error: 0.2188 - val_loss: 0.9297 - val_mean_squared_error: 0.2165\n",
      "Epoch 11/50\n",
      "140/140 [==============================] - 2s 11ms/step - loss: 0.8852 - mean_squared_error: 0.2161 - val_loss: 0.7677 - val_mean_squared_error: 0.2143\n",
      "Epoch 12/50\n",
      "140/140 [==============================] - 2s 11ms/step - loss: 0.7441 - mean_squared_error: 0.2196 - val_loss: 0.6546 - val_mean_squared_error: 0.2131\n",
      "Epoch 13/50\n",
      "140/140 [==============================] - 2s 11ms/step - loss: 0.6294 - mean_squared_error: 0.2097 - val_loss: 0.5726 - val_mean_squared_error: 0.2101\n",
      "Epoch 14/50\n",
      "140/140 [==============================] - 2s 11ms/step - loss: 0.5593 - mean_squared_error: 0.2113 - val_loss: 0.5257 - val_mean_squared_error: 0.2169\n",
      "Epoch 15/50\n",
      "140/140 [==============================] - 2s 11ms/step - loss: 0.5119 - mean_squared_error: 0.2138 - val_loss: 0.4780 - val_mean_squared_error: 0.2094\n",
      "Epoch 16/50\n",
      "140/140 [==============================] - 2s 11ms/step - loss: 0.4746 - mean_squared_error: 0.2124 - val_loss: 0.4515 - val_mean_squared_error: 0.2087\n",
      "Epoch 17/50\n",
      "140/140 [==============================] - 2s 11ms/step - loss: 0.4467 - mean_squared_error: 0.2094 - val_loss: 0.4380 - val_mean_squared_error: 0.2152\n",
      "Epoch 18/50\n",
      "140/140 [==============================] - 2s 11ms/step - loss: 0.4272 - mean_squared_error: 0.2079 - val_loss: 0.4407 - val_mean_squared_error: 0.2289\n",
      "Epoch 19/50\n",
      "140/140 [==============================] - 2s 11ms/step - loss: 0.4221 - mean_squared_error: 0.2145 - val_loss: 0.4106 - val_mean_squared_error: 0.2108\n",
      "Epoch 20/50\n",
      "140/140 [==============================] - 2s 11ms/step - loss: 0.4047 - mean_squared_error: 0.2070 - val_loss: 0.4078 - val_mean_squared_error: 0.2144\n",
      "Epoch 21/50\n",
      "140/140 [==============================] - 2s 11ms/step - loss: 0.4015 - mean_squared_error: 0.2095 - val_loss: 0.3985 - val_mean_squared_error: 0.2095\n",
      "Epoch 22/50\n",
      "140/140 [==============================] - 2s 11ms/step - loss: 0.3985 - mean_squared_error: 0.2105 - val_loss: 0.3938 - val_mean_squared_error: 0.2076\n",
      "Epoch 23/50\n",
      "140/140 [==============================] - 2s 11ms/step - loss: 0.3935 - mean_squared_error: 0.2083 - val_loss: 0.3917 - val_mean_squared_error: 0.2078\n",
      "Epoch 24/50\n",
      "140/140 [==============================] - 2s 11ms/step - loss: 0.3925 - mean_squared_error: 0.2084 - val_loss: 0.3907 - val_mean_squared_error: 0.2077\n",
      "Epoch 25/50\n",
      "140/140 [==============================] - 2s 11ms/step - loss: 0.3890 - mean_squared_error: 0.2065 - val_loss: 0.3954 - val_mean_squared_error: 0.2139\n",
      "Epoch 26/50\n",
      "140/140 [==============================] - 2s 11ms/step - loss: 0.3965 - mean_squared_error: 0.2146 - val_loss: 0.3911 - val_mean_squared_error: 0.2101\n",
      "Epoch 27/50\n",
      "140/140 [==============================] - 2s 11ms/step - loss: 0.3940 - mean_squared_error: 0.2134 - val_loss: 0.3997 - val_mean_squared_error: 0.2188\n",
      "Epoch 28/50\n",
      "140/140 [==============================] - 2s 11ms/step - loss: 0.3891 - mean_squared_error: 0.2084 - val_loss: 0.3880 - val_mean_squared_error: 0.2085\n",
      "Epoch 29/50\n",
      "140/140 [==============================] - 2s 11ms/step - loss: 0.3895 - mean_squared_error: 0.2100 - val_loss: 0.3934 - val_mean_squared_error: 0.2147\n",
      "Epoch 30/50\n",
      "140/140 [==============================] - 2s 11ms/step - loss: 0.3943 - mean_squared_error: 0.2155 - val_loss: 0.3899 - val_mean_squared_error: 0.2106\n",
      "Epoch 31/50\n",
      "140/140 [==============================] - 2s 11ms/step - loss: 0.3859 - mean_squared_error: 0.2071 - val_loss: 0.3860 - val_mean_squared_error: 0.2085\n",
      "Epoch 32/50\n",
      "140/140 [==============================] - 2s 11ms/step - loss: 0.3881 - mean_squared_error: 0.2098 - val_loss: 0.3865 - val_mean_squared_error: 0.2085\n",
      "Epoch 33/50\n",
      "140/140 [==============================] - 2s 11ms/step - loss: 0.3851 - mean_squared_error: 0.2069 - val_loss: 0.3891 - val_mean_squared_error: 0.2113\n",
      "Epoch 34/50\n",
      "140/140 [==============================] - 2s 11ms/step - loss: 0.3863 - mean_squared_error: 0.2080 - val_loss: 0.3862 - val_mean_squared_error: 0.2089\n",
      "Epoch 35/50\n",
      "140/140 [==============================] - 2s 11ms/step - loss: 0.3858 - mean_squared_error: 0.2078 - val_loss: 0.3887 - val_mean_squared_error: 0.2109\n",
      "Epoch 36/50\n",
      "140/140 [==============================] - 2s 11ms/step - loss: 0.3853 - mean_squared_error: 0.2076 - val_loss: 0.3866 - val_mean_squared_error: 0.2087\n",
      "Epoch 37/50\n",
      "140/140 [==============================] - 2s 11ms/step - loss: 0.3851 - mean_squared_error: 0.2072 - val_loss: 0.3845 - val_mean_squared_error: 0.2070\n",
      "Epoch 38/50\n",
      "140/140 [==============================] - 2s 11ms/step - loss: 0.3863 - mean_squared_error: 0.2087 - val_loss: 0.3888 - val_mean_squared_error: 0.2109\n",
      "Epoch 39/50\n",
      "140/140 [==============================] - 2s 11ms/step - loss: 0.3851 - mean_squared_error: 0.2078 - val_loss: 0.3847 - val_mean_squared_error: 0.2072\n",
      "Epoch 40/50\n",
      "140/140 [==============================] - 2s 11ms/step - loss: 0.3826 - mean_squared_error: 0.2049 - val_loss: 0.3843 - val_mean_squared_error: 0.2073\n",
      "Epoch 41/50\n",
      "140/140 [==============================] - 2s 11ms/step - loss: 0.3838 - mean_squared_error: 0.2065 - val_loss: 0.3842 - val_mean_squared_error: 0.2073\n",
      "Epoch 42/50\n",
      "140/140 [==============================] - 2s 11ms/step - loss: 0.3834 - mean_squared_error: 0.2063 - val_loss: 0.3884 - val_mean_squared_error: 0.2111\n",
      "Epoch 43/50\n",
      "140/140 [==============================] - 2s 11ms/step - loss: 0.3857 - mean_squared_error: 0.2084 - val_loss: 0.3844 - val_mean_squared_error: 0.2074\n",
      "Epoch 44/50\n",
      "140/140 [==============================] - 2s 11ms/step - loss: 0.3859 - mean_squared_error: 0.2091 - val_loss: 0.3916 - val_mean_squared_error: 0.2147\n",
      "Epoch 45/50\n",
      "140/140 [==============================] - 2s 11ms/step - loss: 0.3873 - mean_squared_error: 0.2105 - val_loss: 0.3834 - val_mean_squared_error: 0.2071\n",
      "Epoch 46/50\n",
      "140/140 [==============================] - 2s 11ms/step - loss: 0.3830 - mean_squared_error: 0.2065 - val_loss: 0.3866 - val_mean_squared_error: 0.2097\n",
      "Epoch 47/50\n",
      "140/140 [==============================] - 2s 11ms/step - loss: 0.3879 - mean_squared_error: 0.2113 - val_loss: 0.3863 - val_mean_squared_error: 0.2091\n",
      "Epoch 48/50\n",
      "140/140 [==============================] - 2s 11ms/step - loss: 0.3849 - mean_squared_error: 0.2087 - val_loss: 0.3834 - val_mean_squared_error: 0.2082\n",
      "Epoch 49/50\n",
      "140/140 [==============================] - 2s 11ms/step - loss: 0.3841 - mean_squared_error: 0.2086 - val_loss: 0.3886 - val_mean_squared_error: 0.2132\n",
      "Epoch 50/50\n",
      "140/140 [==============================] - 2s 11ms/step - loss: 0.3859 - mean_squared_error: 0.2104 - val_loss: 0.3872 - val_mean_squared_error: 0.2118\n",
      "Time taken to run: 1.3 minutes\n"
     ]
    }
   ],
   "source": [
    "# Training the model\n",
    "model_start = time.time()\n",
    "\n",
    "model_history = model.fit(x_train,\n",
    "                  y_train,\n",
    "                  epochs=50,\n",
    "                  batch_size=256,\n",
    "                  validation_split=0.1)\n",
    "\n",
    "model_end = time.time()\n",
    "\n",
    "print(f\"Time taken to run: {round((model_end - model_start)/60,1)} minutes\")"
   ]
  },
  {
   "cell_type": "code",
   "execution_count": null,
   "metadata": {
    "id": "InmBPh8sEr6x"
   },
   "outputs": [],
   "source": [
    "from sklearn import metrics\n",
    "def evaluate_model(y_test, y_pred):\n",
    "  print('Mean Absolute Error:', metrics.mean_absolute_error(y_test, y_pred))  #evaluation matrices(MAE, MSE, RMSE)\n",
    "  print('Mean Squared Error:', metrics.mean_squared_error(y_test, y_pred))  \n",
    "  print('Root Mean Squared Error:', np.sqrt(metrics.mean_squared_error(y_test, y_pred)))  \n",
    "  print('R Square Error:', metrics.r2_score(y_test, y_pred))"
   ]
  },
  {
   "cell_type": "code",
   "execution_count": null,
   "metadata": {
    "id": "U9VwKVldE6eV"
   },
   "outputs": [],
   "source": [
    "y_test_pred = model.predict(x_test)\n",
    "y_train_pred = model.predict(x_train)"
   ]
  },
  {
   "cell_type": "code",
   "execution_count": null,
   "metadata": {
    "colab": {
     "base_uri": "https://localhost:8080/"
    },
    "id": "TYYwvMCyE_L1",
    "outputId": "b7076687-5779-40a6-8b43-d064188fe176"
   },
   "outputs": [
    {
     "name": "stdout",
     "output_type": "stream",
     "text": [
      "Train\n",
      "Mean Absolute Error: 0.34690496576347396\n",
      "Mean Squared Error: 0.21248685931078284\n",
      "Root Mean Squared Error: 0.4609629695656505\n",
      "R Square Error: 0.5861566475472848\n"
     ]
    }
   ],
   "source": [
    "print(\"Train\")\n",
    "evaluate_model(y_train, y_train_pred)"
   ]
  },
  {
   "cell_type": "code",
   "execution_count": null,
   "metadata": {
    "colab": {
     "base_uri": "https://localhost:8080/"
    },
    "id": "dDsYfVVnAESk",
    "outputId": "3db89bbc-cd49-4e6b-ea2e-2a97b71d0b55"
   },
   "outputs": [
    {
     "name": "stdout",
     "output_type": "stream",
     "text": [
      "Test\n",
      "Mean Absolute Error: 0.35353978449533213\n",
      "Mean Squared Error: 0.22508428822209198\n",
      "Root Mean Squared Error: 0.4744304882931661\n",
      "R Square Error: 0.5661598945176751\n"
     ]
    }
   ],
   "source": [
    "print(\"Test\")\n",
    "evaluate_model(y_test, y_test_pred)"
   ]
  },
  {
   "cell_type": "code",
   "execution_count": null,
   "metadata": {
    "id": "jfpK3lMoGD_f"
   },
   "outputs": [],
   "source": [
    "model.save(working_directory+'dl_model.h5')"
   ]
  }
 ],
 "metadata": {
  "colab": {
   "collapsed_sections": [],
   "name": "DL Model.ipynb",
   "provenance": []
  },
  "kernelspec": {
   "display_name": "Python 3",
   "language": "python",
   "name": "python3"
  },
  "language_info": {
   "codemirror_mode": {
    "name": "ipython",
    "version": 3
   },
   "file_extension": ".py",
   "mimetype": "text/x-python",
   "name": "python",
   "nbconvert_exporter": "python",
   "pygments_lexer": "ipython3",
   "version": "3.7.3"
  }
 },
 "nbformat": 4,
 "nbformat_minor": 1
}
